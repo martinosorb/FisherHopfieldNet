{
 "cells": [
  {
   "cell_type": "code",
   "execution_count": null,
   "metadata": {
    "collapsed": true
   },
   "outputs": [],
   "source": [
    "import numpy as np\n",
    "import matplotlib.pyplot as plt\n",
    "%matplotlib inline"
   ]
  },
  {
   "cell_type": "code",
   "execution_count": null,
   "metadata": {},
   "outputs": [],
   "source": [
    "filename = '../results/Complete_errors_stored15_size10_spars0.1_ALL.npz'\n",
    "\n",
    "data = np.load(filename)"
   ]
  },
  {
   "cell_type": "code",
   "execution_count": null,
   "metadata": {},
   "outputs": [],
   "source": [
    "print(data.keys())\n",
    "print(data['FI_N'].shape)"
   ]
  },
  {
   "cell_type": "code",
   "execution_count": null,
   "metadata": {
    "collapsed": true
   },
   "outputs": [],
   "source": [
    "def plot_stuff_together(what, label):\n",
    "    # plt.subplot(1, 2, axisn)\n",
    "    center = np.median(what, axis=0)\n",
    "    edges = np.percentile(what, [25, 75], axis=0)\n",
    "    plt.gca().color_cyle(plt.cm.viridis(np.arange(what.shape[-1])/what.shape[-1]))\n",
    "    l = plt.plot(center, label=label, linewidth=2.5, cmap=plt.cm.viridis)\n",
    "    c = l[0].get_color()\n",
    "    # plt.fill_between(np.arange(len(center)), *edges, alpha=.15, color=c)\n",
    "    # plt.plot(edges.T, color=c, alpha=.2)\n",
    "    plt.ylabel('Pixel Error %')\n",
    "    plt.ylim([0, 1.1])\n",
    "    plt.legend(loc='lower right')\n",
    "    # plt.xlim([-1, 2000])"
   ]
  },
  {
   "cell_type": "code",
   "execution_count": null,
   "metadata": {},
   "outputs": [],
   "source": [
    "plt.figure(figsize=(15, 15))\n",
    "for j, k in enumerate(data.keys()):\n",
    "    plt.subplot(len(data.keys()), 1, j+1)\n",
    "    plt.title(k)\n",
    "    center = np.median(data[k], axis=0)\n",
    "    n = center.shape[-1]\n",
    "    for i, p in enumerate(center.T):\n",
    "        plt.plot(p, c=plt.cm.viridis(i/n))\n",
    "    plt.plot(np.median(data[k].mean(-1), axis=0), c='r')\n",
    "    edges = np.percentile(data[k].mean(-1), [25, 75], axis=0)\n",
    "    plt.fill_between(np.arange(len(center)), *edges, alpha=.15, color='r')\n",
    "plt.tight_layout()"
   ]
  },
  {
   "cell_type": "code",
   "execution_count": null,
   "metadata": {
    "collapsed": true
   },
   "outputs": [],
   "source": []
  }
 ],
 "metadata": {
  "kernelspec": {
   "display_name": "Python 3",
   "language": "python",
   "name": "python3"
  },
  "language_info": {
   "codemirror_mode": {
    "name": "ipython",
    "version": 3
   },
   "file_extension": ".py",
   "mimetype": "text/x-python",
   "name": "python",
   "nbconvert_exporter": "python",
   "pygments_lexer": "ipython3",
   "version": "3.5.2"
  }
 },
 "nbformat": 4,
 "nbformat_minor": 2
}
