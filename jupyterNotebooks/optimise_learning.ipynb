{
 "cells": [
  {
   "cell_type": "code",
   "execution_count": 1,
   "metadata": {},
   "outputs": [],
   "source": [
    "import warnings\n",
    "warnings.filterwarnings(\"ignore\")\n",
    "import sys\n",
    "sys.path.append('../code')\n",
    "\n",
    "\n",
    "from IPython.core.pylabtools import figsize\n",
    "figsize(14, 7)\n",
    "from pylab import *\n",
    "rcParams['figure.subplot.wspace'] = 0.8\n",
    "rcParams['figure.subplot.hspace'] = 0.6\n",
    "rcParams['axes.spines.right'] = False\n",
    "rcParams['axes.spines.top'] = False\n",
    "rcParams['font.size'] = 16\n",
    "rcParams['axes.titlesize'] = 16\n",
    "rcParams['axes.labelsize'] = 16\n",
    "rcParams['xtick.labelsize'] = 14\n",
    "rcParams['ytick.labelsize'] = 14\n",
    "rcParams['legend.frameon'] = False\n",
    "\n",
    "\n",
    "from hopfieldNetwork import hopfieldNet\n",
    "from solverFile import solverClass\n",
    "import numpy as np\n",
    "import copy\n",
    "from scipy.special import expit\n",
    "import matplotlib.pyplot as plt\n",
    "\n",
    "\n",
    "\n",
    "def to_triangular(matrix):\n",
    "    return matrix[np.triu_indices_from(matrix, 1)]\n",
    "\n",
    "\n",
    "def from_triangular(size, arr, diagonal_value):\n",
    "    matrix = np.zeros([size, size])\n",
    "    matrix[np.triu_indices_from(matrix, 1)] = arr\n",
    "    matrix += matrix.T\n",
    "    np.fill_diagonal(matrix, diagonal_value)\n",
    "    return matrix\n",
    "\n",
    "\n",
    "def dice_coefficient(p1, p2):\n",
    "    p = 2 * np.sum(np.floor(0.6*(p1 + p2)))\n",
    "    n = np.sum(p1)+np.sum(p2)\n",
    "    return p/n\n",
    "\n",
    "\n",
    "def evaluate_stability(network, patterns, average=True):\n",
    "    error = np.empty(len(patterns))\n",
    "    for i, p in enumerate(patterns):\n",
    "        network.present_pattern(p)\n",
    "        network.step(eval_epochs)\n",
    "        output = netFisher.s\n",
    "        error[i] = dice_coefficient(p, output)\n",
    "    if average:\n",
    "        return np.mean(error)\n",
    "    return error\n",
    "\n",
    "%matplotlib inline\n",
    "\n"
   ]
  },
  {
   "cell_type": "code",
   "execution_count": 77,
   "metadata": {},
   "outputs": [
    {
     "name": "stdout",
     "output_type": "stream",
     "text": [
      "16.0\n",
      "4950 4655\n"
     ]
    }
   ],
   "source": [
    "\n",
    "ETA = 0.1  # learning rate\n",
    "SPARSITY = 0.1  # number of zeros: SPARSITY = 0.1 means 10% ones and 90% zeros\n",
    "IMAGE_SIZE = 10  # the size of our pattern will be (IMAGE_SIZE x IMAGE_SIZE)\n",
    "print(IMAGE_SIZE**2*0.16)\n",
    "eval_f = 1  # evaluation frequency (every eval_f-th iteration)\n",
    "TRIALS = 1  # number of trials over which the results will be averaged\n",
    "less_changed_weight_value = 0.00\n",
    "# the learning rate of weights which are considered important have a\n",
    "# learning rate of ETA * less_changed_weight_value\n",
    "epochs_patterns_presented = 2\n",
    "n_stored_patterns = 0\n",
    "n_new_patterns = 20\n",
    "n_tot_patterns = n_stored_patterns + n_new_patterns  # n of patterns created\n",
    "NTRAIN = epochs_patterns_presented * n_new_patterns  # number of epochs\n",
    "number_of_changed_values = 4600\n",
    "number_of_changed_values = 4500\n",
    "number_of_changed_values = int(IMAGE_SIZE*(IMAGE_SIZE-1)/2)-1200\n",
    "number_of_changed_values = IMAGE_SIZE**2*(IMAGE_SIZE**2-1)//2//100*95\n",
    "print(IMAGE_SIZE**2*(IMAGE_SIZE**2-1)//2,number_of_changed_values)\n",
    "# number_of_changed_values_diag_0 = number_of_changed_values + IMAGE_SIZE**2/2\n",
    "# the number of weigths that are changed is 2*number_of_changed_values\n",
    "# (The factor of 2 is because of the symmetry of the weight matrix)\n",
    "eval_epochs = 10  # how many steps are run before dice coefficient computed\n",
    "\n",
    "# preparing patterns\n",
    "solver = solverClass()\n",
    "patterns = solver.create_patterns(SPARSITY, IMAGE_SIZE, n_tot_patterns)\n",
    "netFisher = hopfieldNet(IMAGE_SIZE, ETA, SPARSITY)\n",
    "original_patterns = copy.deepcopy(patterns)\n",
    "patterns = patterns - SPARSITY\n",
    "\n",
    "# learning patterns\n",
    "p = np.random.random((IMAGE_SIZE**2, IMAGE_SIZE**2))\n",
    "p = np.zeros(shape=(IMAGE_SIZE**2, IMAGE_SIZE**2))    \n",
    "\n",
    "if n_stored_patterns>0:\n",
    "    for i in range(n_stored_patterns):\n",
    "        p += np.outer(patterns[:, i], patterns[:, i])\n",
    "        netFisher.append_pattern(patterns[:, i], NTRAIN)\n",
    "    w1 = p/n_stored_patterns\n",
    "    ############################## RUN PRE-TEST ##############################\n",
    "    netFisher.set_weights(w1)\n",
    "    overall_error = 0\n",
    "    for i in range(int(n_stored_patterns)):\n",
    "        netFisher.present_pattern(original_patterns[:,i])\n",
    "        netFisher.step(100)\n",
    "        output = netFisher.s\n",
    "        error = np.sum(original_patterns[:,i]-output)**2\n",
    "        overall_error += error\n",
    "    print('The overall_error is:   ', overall_error) # Error should be 0\n",
    "else:\n",
    "    ns = 20\n",
    "    pre_patterns = solver.create_patterns(SPARSITY, IMAGE_SIZE, ns) - SPARSITY\n",
    "    for i in range(ns):\n",
    "        p += np.outer(pre_patterns[:, i], pre_patterns[:, i])\n",
    "    w1 = p/ns/1\n",
    "netFisher.set_weights(w1)\n",
    "\n"
   ]
  },
  {
   "cell_type": "code",
   "execution_count": 78,
   "metadata": {
    "scrolled": false
   },
   "outputs": [],
   "source": [
    "def compute_dice(c, ETA):#, t = 0.0):\n",
    "    wF = np.copy(w1)\n",
    "    DICE = -np.ones(shape=(NTRAIN, n_tot_patterns))\n",
    "    N_PRE = 0\n",
    "    NTRAIN_PRE = epochs_patterns_presented * N_PRE  # number of epochs\n",
    "    pre_patterns = solver.create_patterns(SPARSITY, IMAGE_SIZE, N_PRE)\n",
    "    all_patterns = np.hstack((pre_patterns - SPARSITY,patterns))\n",
    "    w_mean = np.zeros(NTRAIN+NTRAIN_PRE)\n",
    "    for epoch in range(NTRAIN+NTRAIN_PRE):\n",
    "        id_pattern_taught = n_stored_patterns+epoch//epochs_patterns_presented\n",
    "        pattern_taught = all_patterns[:, id_pattern_taught]\n",
    "\n",
    "        z = (np.outer(pattern_taught, pattern_taught) - wF)\n",
    "\n",
    "#         netFisher.curvature = np.abs(wF*(1-wF)-4*wF)  # not an actual curvature\n",
    "        netFisher.curvature = np.abs(wF)  # not an actual curvature\n",
    "        weight_perturbation = c/(c+netFisher.curvature)#np.exp(-netFisher.curvature*41)#fim_scale)\n",
    "\n",
    "        perturbation_vector = weight_perturbation * z * ETA #* (np.abs(z)>t)\n",
    "        wF = wF + perturbation_vector\n",
    "        netFisher.set_weights(wF)\n",
    "        w_mean[epoch] = np.mean(wF)\n",
    "\n",
    "        # checking stability of patterns after eval_epochs iterations\n",
    "        if epoch>=NTRAIN_PRE:\n",
    "            DICE[epoch-NTRAIN_PRE] = evaluate_stability(  # old patterns\n",
    "                netFisher, original_patterns.T[:n_tot_patterns], average=False)\n",
    "    return DICE\n",
    "\n",
    "def compute_dice_error(par):\n",
    "#     c,t = par\n",
    "    c, ETA = par\n",
    "    return -np.sum(compute_dice(c,ETA)>0.9)\n"
   ]
  },
  {
   "cell_type": "code",
   "execution_count": 79,
   "metadata": {},
   "outputs": [
    {
     "name": "stdout",
     "output_type": "stream",
     "text": [
      "Optimization terminated successfully.\n",
      "         Current function value: -335.000000\n",
      "         Iterations: 46\n",
      "         Function evaluations: 107\n",
      "[0.0067162  0.74382889]\n"
     ]
    }
   ],
   "source": [
    "from scipy.optimize import minimize\n",
    "from scipy import optimize\n",
    "\n",
    "c = optimize.fmin(compute_dice_error,(0.1,0.1),disp=True)\n",
    "print(c)\n"
   ]
  },
  {
   "cell_type": "code",
   "execution_count": 80,
   "metadata": {},
   "outputs": [
    {
     "name": "stdout",
     "output_type": "stream",
     "text": [
      "0.46830890338591574\n"
     ]
    },
    {
     "data": {
      "image/png": "[encoded data removed]",
      "text/plain": [
       "<Figure size 1080x216 with 1 Axes>"
      ]
     },
     "metadata": {},
     "output_type": "display_data"
    }
   ],
   "source": [
    "data = compute_dice(c[0],c[1])\n",
    "fig = plt.figure(figsize=(15, 3))\n",
    "ax = plt.subplot(111)\n",
    "center = data#np.mean(data, axis=1)\n",
    "print(np.mean(center))\n",
    "n,m = center.shape\n",
    "im = ax.imshow(center.T,cmap=plt.cm.summer,aspect=0.2*n/m,vmin=0,vmax=1)\n"
   ]
  },
  {
   "cell_type": "code",
   "execution_count": null,
   "metadata": {},
   "outputs": [],
   "source": []
  },
  {
   "cell_type": "code",
   "execution_count": null,
   "metadata": {},
   "outputs": [],
   "source": []
  },
  {
   "cell_type": "code",
   "execution_count": null,
   "metadata": {},
   "outputs": [],
   "source": []
  },
  {
   "cell_type": "code",
   "execution_count": null,
   "metadata": {},
   "outputs": [],
   "source": []
  }
 ],
 "metadata": {
  "kernelspec": {
   "display_name": "Python 3",
   "language": "python",
   "name": "python3"
  },
  "language_info": {
   "codemirror_mode": {
    "name": "ipython",
    "version": 3
   },
   "file_extension": ".py",
   "mimetype": "text/x-python",
   "name": "python",
   "nbconvert_exporter": "python",
   "pygments_lexer": "ipython3",
   "version": "3.6.3"
  }
 },
 "nbformat": 4,
 "nbformat_minor": 2
}
