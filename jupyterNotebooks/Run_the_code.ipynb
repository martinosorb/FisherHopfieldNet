{
 "cells": [
  {
   "cell_type": "code",
   "execution_count": 34,
   "metadata": {
    "collapsed": false
   },
   "outputs": [
    {
     "name": "stdout",
     "output_type": "stream",
     "text": [
      "The autoreload extension is already loaded. To reload it, use:\n",
      "  %reload_ext autoreload\n"
     ]
    }
   ],
   "source": [
    "%matplotlib inline\n",
    "%load_ext autoreload\n",
    "%autoreload 2"
   ]
  },
  {
   "cell_type": "code",
   "execution_count": 35,
   "metadata": {
    "collapsed": false,
    "scrolled": false
   },
   "outputs": [],
   "source": [
    "import numpy as np\n",
    "import matplotlib.pyplot as plt"
   ]
  },
  {
   "cell_type": "code",
   "execution_count": 36,
   "metadata": {
    "collapsed": false,
    "scrolled": false
   },
   "outputs": [
    {
     "name": "stdout",
     "output_type": "stream",
     "text": [
      "**Started Learning**\n",
      "Running trial  1  /  1\n",
      "The overall_error is:    0.0\n",
      "The sum is:    11954.943001984415\n",
      "The sum is:    11658.599647568451\n",
      "The sum is:    11765.736648483944\n",
      "The sum is:    12133.583091433984\n",
      "The sum is:    12707.287144090466\n",
      "The sum is:    13431.7502797935\n",
      "The sum is:    12090.481359967458\n",
      "The sum is:    11826.870100814984\n",
      "The sum is:    11977.625238122826\n",
      "The sum is:    12401.815998168502\n",
      "The sum is:    13043.239075988731\n",
      "The sum is:    12114.926091472114\n",
      "The sum is:    12033.01706365024\n",
      "The sum is:    12286.257533978063\n",
      "The sum is:    12754.00521132607\n",
      "The sum is:    13372.642499328515\n",
      "The sum is:    12156.92071087047\n",
      "The sum is:    11999.708011235816\n",
      "The sum is:    12198.648236625264\n",
      "The sum is:    12622.284135122834\n",
      "The sum is:    13214.521765429328\n",
      "The sum is:    12007.63733221956\n",
      "The sum is:    11859.672034612799\n",
      "The sum is:    12061.56150283165\n",
      "The sum is:    12484.140011280377\n",
      "../Complete_errors_stored10_size10_spars0.1_epochs500_eta0.001_ALL.npz\n",
      "**Finished**\n"
     ]
    }
   ],
   "source": [
    "%run -i '../code/run_multiple.py' #initializes all variables (mostly to zero)"
   ]
  },
  {
   "cell_type": "code",
   "execution_count": null,
   "metadata": {
    "collapsed": true
   },
   "outputs": [],
   "source": []
  },
  {
   "cell_type": "code",
   "execution_count": null,
   "metadata": {
    "collapsed": true
   },
   "outputs": [],
   "source": []
  }
 ],
 "metadata": {
  "kernelspec": {
   "display_name": "Python 3",
   "language": "python",
   "name": "python3"
  },
  "language_info": {
   "codemirror_mode": {
    "name": "ipython",
    "version": 3
   },
   "file_extension": ".py",
   "mimetype": "text/x-python",
   "name": "python",
   "nbconvert_exporter": "python",
   "pygments_lexer": "ipython3",
   "version": "3.5.1"
  }
 },
 "nbformat": 4,
 "nbformat_minor": 0
}
